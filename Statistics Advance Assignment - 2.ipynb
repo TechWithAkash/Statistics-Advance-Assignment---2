{
 "cells": [
  {
   "cell_type": "markdown",
   "id": "287d194c",
   "metadata": {},
   "source": [
    "Q1: What are the Probability Mass Function (PMF) and Probability Density Function (PDF)? Explain with\n",
    "an example."
   ]
  },
  {
   "cell_type": "markdown",
   "id": "624392da",
   "metadata": {},
   "source": [
    "==>\n",
    "Probability Mass Function (PMF) and Probability Density Function (PDF) are concepts in probability and statistics used to describe the distribution of random variables.\n",
    "\n",
    "Probability Mass Function (PMF):\n",
    "A Probability Mass Function (PMF) is used for discrete random variables. It gives the probability of a specific value occurring. In other words, it maps each possible value of the random variable to its associated probability. The sum of all probabilities in the PMF must be equal to 1.\n",
    "\n",
    "Example of PMF:\n",
    "Let's consider the rolling of a fair six-sided die. The possible outcomes are {1, 2, 3, 4, 5, 6}. The PMF for this scenario might look like:\n",
    "\n",
    "\n",
    "Value (x)\tPMF(P(X=x))\n",
    "1       \t    1/6\n",
    "2       \t    1/6\n",
    "3       \t    1/6\n",
    "4        \t    1/6\n",
    "5\t1/6\n",
    "6\t1/6\n",
    "Each value has an equal probability of 1/6.\n",
    "\n",
    "Probability Density Function (PDF):\n",
    "A Probability Density Function (PDF) is used for continuous random variables. It gives the relative likelihood of a random variable taking on a specific value. The area under the PDF curve over a given interval represents the probability that the random variable falls within that interval. Unlike PMF, the PDF does not give the probability at a specific point, but rather the probability within a range.\n",
    "\n",
    "Remember that the PDF doesn't give the probability at a single point (since the probability of a continuous random variable taking an exact point is 0), but it gives the probability within a range"
   ]
  },
  {
   "cell_type": "code",
   "execution_count": null,
   "id": "78b77271",
   "metadata": {},
   "outputs": [],
   "source": []
  },
  {
   "cell_type": "code",
   "execution_count": null,
   "id": "447340b9",
   "metadata": {},
   "outputs": [],
   "source": [
    "Q2: What is Cumulative Density Function (CDF)? Explain with an example. Why CDF is used?"
   ]
  },
  {
   "cell_type": "markdown",
   "id": "16857be4",
   "metadata": {},
   "source": [
    "==>\n",
    "The Cumulative Distribution Function (CDF) is a concept in probability and statistics that provides information about the probability that a random variable takes on a value less than or equal to a specific value. It gives a cumulative view of the distribution of a random variable.\n",
    "\n",
    "Mathematically, for a random variable X, the CDF F(x) is defined as:\n",
    "F(x)=P(X≤x)\n",
    "\n",
    "Example of CDF:\n",
    "Consider a random variable X representing the outcome of rolling a fair six-sided die. The possible outcomes are {1, 2, 3, 4, 5, 6}. The CDF for this case might look like:\n",
    "\n",
    "Value (x)\tCDF (F(x))\n",
    "1       \t1/6\n",
    "2       \t1/3\n",
    "3       \t1/2\n",
    "4       \t2/3\n",
    "5       \t5/6\n",
    "6       \t1\n",
    "\n",
    "Why CDF is used?\n",
    "The CDF provides several important advantages and insights:\n",
    "\n",
    "1)Probability Calculations: The CDF allows you to calculate probabilities involving ranges of values easily. For instance, the probability that \n",
    "\n",
    "X lies between a and b is P(a≤X≤b)=F(b)−F(a).\n",
    "\n",
    "2)Quantile Calculation: The CDF allows you to find quantiles, which represent values at specific probability levels. For instance, the 75th percentile corresponds to the value \n",
    "x for which =0.75\n",
    "F(x)=0.75, meaning that 75% of the data lies below x.\n",
    "\n",
    "3)Comparing Distributions: CDFs are useful for comparing different distributions. You can visually compare two or more CDFs to understand how different random variables or distributions behave in terms of their probabilities.\n",
    "\n",
    "4)Statistical Analysis: CDFs are used in various statistical analyses, including hypothesis testing, confidence interval estimation, and modeling."
   ]
  },
  {
   "cell_type": "code",
   "execution_count": null,
   "id": "ff127664",
   "metadata": {},
   "outputs": [],
   "source": []
  },
  {
   "cell_type": "markdown",
   "id": "1993ad0c",
   "metadata": {},
   "source": [
    "Q3: What are some examples of situations where the normal distribution might be used as a model?\n",
    "Explain how the parameters of the normal distribution relate to the shape of the distribution."
   ]
  },
  {
   "cell_type": "markdown",
   "id": "6aeae3d6",
   "metadata": {},
   "source": [
    "==>\n",
    "\n",
    "The normal distribution, also known as the Gaussian distribution or bell curve, is one of the most widely used probability distributions in statistics and probability theory. It is used to model a wide range of real-world situations due to its flexibility and the Central Limit Theorem, which states that the sum or average of a large number of independent, identically distributed random variables tends to follow a normal distribution, even if the original variables do not.\n",
    "\n",
    "Here are some examples of situations where the normal distribution might be used as a model:\n",
    "\n",
    "1)Height of Individuals: The heights of people in a population often follow a normal distribution. This makes it suitable for various applications, such as calculating percentiles, identifying outliers, and estimating average heights.\n",
    "\n",
    "2)Measurement Errors: Measurement errors in scientific experiments or manufacturing processes often follow a normal distribution. This makes the normal distribution useful for analyzing and correcting for measurement inaccuracies.\n",
    "\n",
    "3)IQ Scores: Intelligence quotient (IQ) scores are often modeled using a normal distribution. This helps in understanding the distribution of intelligence levels in a population.\n",
    "\n",
    "\n",
    "5)Natural Phenomena: Many natural phenomena, like the distribution of particle velocities in a gas or the distribution of errors in astronomical observations, can be approximated by a normal distribution.\n",
    "\n",
    "The normal distribution is defined by two parameters: the mean (μ) and the standard deviation (σ). These parameters determine the shape of the distribution:\n",
    "\n",
    "1)Mean (μ): The mean represents the center of the distribution. It's the average value around which the data tends to cluster. Shifting the mean to the left or right moves the entire distribution along the x-axis without changing its shape.\n",
    "\n",
    "2)Standard Deviation (σ): The standard deviation measures the spread or dispersion of the data points from the mean. A larger standard deviation results in a wider distribution, while a smaller standard deviation results in a narrower distribution.\n",
    "\n",
    "The shape of the normal distribution is symmetric and bell-shaped. As the standard deviation increases, the tails of the distribution become thinner and the curve becomes flatter. Conversely, as the standard deviation decreases, the tails become fatter and the curve becomes taller."
   ]
  },
  {
   "cell_type": "code",
   "execution_count": null,
   "id": "0ec8c42d",
   "metadata": {},
   "outputs": [],
   "source": []
  },
  {
   "cell_type": "code",
   "execution_count": null,
   "id": "c9be8adc",
   "metadata": {},
   "outputs": [],
   "source": [
    "Q4: Explain the importance of Normal Distribution. Give a few real-life examples of Normal\n",
    "Distribution."
   ]
  },
  {
   "cell_type": "markdown",
   "id": "b5dd234b",
   "metadata": {},
   "source": [
    "==>\n",
    "The normal distribution, also known as the Gaussian distribution or bell curve, holds significant importance in various fields due to its mathematical properties and its prevalence in real-world phenomena. Here are some reasons why the normal distribution is important:\n",
    "\n",
    "a)Central Limit Theorem: The Central Limit Theorem states that the distribution of the sum (or average) of a large number of independent, identically distributed random variables approaches a normal distribution, regardless of the original distribution of the variables. This property makes the normal distribution a fundamental building block for statistical inference and hypothesis testing.\n",
    "\n",
    "b)Statistical Inference: Many statistical methods and hypothesis tests assume normality. If data is normally distributed, it simplifies the application of various statistical techniques, such as confidence intervals, hypothesis tests, and linear regression.\n",
    "\n",
    "c)Modeling Uncertainty: In many cases, errors, deviations, or variations from a central value in natural and social phenomena follow a normal distribution. Modeling uncertainty with a normal distribution is a practical approach in many fields.\n",
    "\n",
    "d)Comparison and Analysis: The normal distribution provides a standard to which other distributions can be compared. When analyzing data, researchers often compare distributions to the normal distribution to assess deviations, identify outliers, or evaluate the appropriateness of modeling choices.\n",
    "\n",
    "e)Risk Assessment and Management: Many financial and insurance applications use the normal distribution to model the distribution of returns or losses. This aids in understanding and quantifying risks associated with investments or potential losses.\n",
    "    \n",
    "\n",
    "Real-life examples of situations that can be modeled using the normal distribution include:\n",
    "\n",
    "1.Height of Individuals: The distribution of human heights tends to follow a normal distribution, with most people clustering around the average height.\n",
    "\n",
    "2.Exam Scores: Scores on standardized tests, such as IQ tests or SAT scores, often exhibit a normal distribution.\n",
    "\n",
    "3.Measurement Errors: Errors in measurements from scientific experiments, medical tests, and manufacturing processes can be approximated by a normal distribution.\n",
    "\n",
    "4.Stock Returns: Daily or monthly returns of stocks in financial markets can be modeled using the normal distribution for risk assessment and investment strategies.\n",
    "\n",
    "5.Heartbeat Variability: Heartbeat variability measures in healthy individuals often follow a normal distribution.\n",
    "\n",
    "6.Temperature Variations: Daily temperature variations in a location can often be modeled as normally distributed."
   ]
  },
  {
   "cell_type": "code",
   "execution_count": null,
   "id": "6746c81d",
   "metadata": {},
   "outputs": [],
   "source": []
  },
  {
   "cell_type": "code",
   "execution_count": null,
   "id": "1648140f",
   "metadata": {},
   "outputs": [],
   "source": [
    "Q5: What is Bernaulli Distribution? Give an Example. What is the difference between Bernoulli\n",
    "Distribution and Binomial Distribution?"
   ]
  },
  {
   "cell_type": "markdown",
   "id": "33ff9094",
   "metadata": {},
   "source": [
    "==>\n",
    "Bernoulli Distribution:\n",
    "The Bernoulli distribution is a discrete probability distribution that represents a random variable with two possible outcomes: success (usually denoted as 1) and failure (usually denoted as 0). It's a simple yet fundamental distribution used to model situations where an event has only two possible outcomes and the probability of success remains constant across trials.\n",
    "\n",
    "Mathematically, for a Bernoulli random variable \n",
    "\n",
    "X:P(X=1)=p (probability of success)P(X=0)=1−p (probability of failure)\n",
    "Example of Bernoulli Distribution:\n",
    "Flipping a fair coin is a classic example of a Bernoulli distribution. If we consider heads as success (1) and tails as failure (0), then the probability of getting heads (success) is =\n",
    "0.5\n",
    "p=0.5 and the probability of getting tails (failure) is 1=0.5\n",
    "1−p=0.5.\n",
    "\n",
    "Difference between Bernoulli Distribution and Binomial Distribution:\n",
    "The Bernoulli distribution is the simplest case of the binomial distribution. Both distributions deal with binary outcomes (success or failure), but there are differences in their characteristics and applications:\n",
    "\n",
    "1. Bernoulli Distribution:\n",
    "\n",
    "Represents a single trial with two possible outcomes.\n",
    "There's only one parameter, p, which is the probability of success.\n",
    "Examples: Coin flips, yes/no responses, single trial of a binary experiment.\n",
    "2. Binomial Distribution:\n",
    "\n",
    "Represents the number of successes in a fixed number of independent Bernoulli trials.\n",
    "Requires two parameters: n (number of trials) and p (probability of success in each trial).\n",
    "Gives the probabilities of different numbers of successes in n trials.\n",
    "Examples: Counting the number of heads in n coin flips, the number of defective items in \n",
    "n sampled items from a production line."
   ]
  },
  {
   "cell_type": "code",
   "execution_count": null,
   "id": "d252945f",
   "metadata": {},
   "outputs": [],
   "source": []
  },
  {
   "cell_type": "markdown",
   "id": "7d65f47a",
   "metadata": {},
   "source": [
    "Q6. Consider a dataset with a mean of 50 and a standard deviation of 10. If we assume that the dataset\n",
    "is normally distributed, what is the probability that a randomly selected observation will be greater\n",
    "than 60? Use the appropriate formula and show your calculations."
   ]
  },
  {
   "cell_type": "markdown",
   "id": "596cb75b",
   "metadata": {},
   "source": [
    "==>\n",
    "To find the probability that a randomly selected observation from a normally distributed dataset with a mean of 50 and a standard deviation of 10 will be greater than 60, we can use the standard normal distribution (Z) and the cumulative distribution function (CDF). We need to calculate the Z-score for the value 60 and then find the area under the standard normal curve to the right of that Z-score.\n",
    "\n",
    "The Z-score formula is given by:\n",
    "[ Z = frac{X - mu}{sigma} ]\n",
    "\n",
    "Where:\n",
    "( X \\) is the value we're interested in (60 in this case)\n",
    "( mu ) is the mean of the distribution (50 in this case)\n",
    "( sigma ) is the standard deviation of the distribution (10 in this case)\n",
    "\n",
    "Substituting the values:[ Z = frac{60 - 50}{10} = 1 ]\n",
    "\n",
    "Now, we want to find the probability that ( Z ) is greater than 1. This can be calculated using the standard normal cumulative distribution function (\\( \\Phi(Z) \\)) or by finding the area under the curve to the right of ( Z = 1 ).[ P(Z > 1) = 1 - Phi(1) ]\n",
    "\n",
    "Using a standard normal table or calculator, you can find that ( Phi(1) \\approx 0.8413 \\). Therefore,\n",
    "[ P(Z > 1) = 1 - 0.8413 approx 0.1587 ]\n",
    "\n",
    "So, the probability that a randomly selected observation from the dataset will be greater than 60 is approximately 0.1587 or 15.87%."
   ]
  },
  {
   "cell_type": "code",
   "execution_count": null,
   "id": "bb654819",
   "metadata": {},
   "outputs": [],
   "source": []
  },
  {
   "cell_type": "code",
   "execution_count": null,
   "id": "3b9dde58",
   "metadata": {},
   "outputs": [],
   "source": [
    "Q7: Explain uniform Distribution with an example."
   ]
  },
  {
   "cell_type": "code",
   "execution_count": null,
   "id": "f9829f57",
   "metadata": {},
   "outputs": [],
   "source": [
    "==>\n",
    "The uniform distribution is a continuous probability distribution that occurs when all outcomes in a given range are equally likely. In other words, it represents situations where every value in a specified interval has the same likelihood of occurring.\n",
    "\n",
    "Mathematically, the probability density function (PDF) of a uniform distribution between \n",
    "\n",
    "a and \n",
    "b is:forf(x)= b−a\n",
    "1\n",
    " for a≤x≤b=0\n",
    "otherwise\n",
    "f(x)=0otherwise\n",
    "\n",
    "In this distribution, every value within the interval \n",
    "\n",
    "[a,b] has an equal probability of \n",
    "1\n",
    "b−a\n",
    "1\n",
    "Example of Uniform Distribution:\n",
    "Imagine you have a spinner with equal divisions numbered from 1 to 6, like the numbers on a regular six-sided die. When you spin the spinner, the number it lands on follows a uniform distribution because each number (outcome) has an equal probability of \n",
    "1\n",
    "6\n",
    "6\n",
    "1\n",
    "\n",
    "\n",
    "Another example involves picking a random point in a specific range on a number line. Let's say you choose a random point between 0 and 1. Since every point within this interval has an equal chance of being selected, this is a uniform distribution with =0\n",
    "a=0 and 1\n",
    "b=1."
   ]
  },
  {
   "cell_type": "code",
   "execution_count": null,
   "id": "5b09d76b",
   "metadata": {},
   "outputs": [],
   "source": []
  },
  {
   "cell_type": "code",
   "execution_count": null,
   "id": "f6b50686",
   "metadata": {},
   "outputs": [],
   "source": [
    "Q8: What is the z score? State the importance of the z score."
   ]
  },
  {
   "cell_type": "markdown",
   "id": "6502f4b6",
   "metadata": {},
   "source": [
    "==>\n",
    "The z-score, also known as the standard score or the normal score, is a statistical measure that quantifies the number of standard deviations a data point is away from the mean of a dataset. It's used to standardize data and allows for easy comparison of values from different distributions.\n",
    "\n",
    "Here's why z-scores are important:\n",
    "\n",
    "Standardization: Z-scores standardize data by converting it into a common scale, making it easier to compare values across different distributions. This is particularly useful when working with datasets that have different units or scales.\n",
    "\n",
    "Outlier Detection: Z-scores help identify outliers, which are data points that are significantly far from the mean. Outliers often have z-scores that are far from zero."
   ]
  },
  {
   "cell_type": "code",
   "execution_count": null,
   "id": "e71a4291",
   "metadata": {},
   "outputs": [],
   "source": []
  },
  {
   "cell_type": "markdown",
   "id": "67e0ae63",
   "metadata": {},
   "source": [
    "Q9: What is Central Limit Theorem? State the significance of the Central Limit Theorem."
   ]
  },
  {
   "cell_type": "markdown",
   "id": "4daf2b99",
   "metadata": {},
   "source": [
    "==>\n",
    "\n",
    "The Central Limit Theorem (CLT) is a fundamental concept in statistics that describes the behavior of the distribution of sample means, particularly when the sample size is sufficiently large. It states that regardless of the underlying population distribution, as long as the sample size is sufficiently large, the distribution of sample means will be approximately normal (Gaussian) in shape, regardless of the shape of the original population distribution.\n",
    "\n",
    "\n",
    "The significance of the Central Limit Theorem is immense and has far-reaching implications in various fields, including:\n",
    "\n",
    "Statistical Inference: The CLT is a foundational concept in statistical inference. It justifies the use of parametric tests and confidence intervals, assuming that the sample size is sufficiently large, even when the underlying population distribution is not normal.\n",
    "\n",
    "Sampling: The CLT enables researchers to work with the means of samples instead of the raw data, simplifying complex calculations and providing a reliable approximation for the distribution of sample means.\n",
    "\n",
    "Estimation: The CLT is crucial in estimating population parameters based on sample data. For instance, it allows us to estimate the population mean and standard deviation using sample mean and standard deviation.\n",
    "\n",
    "Hypothesis Testing: Many hypothesis tests rely on the assumption of a normal distribution, and the CLT provides a justification for this assumption when dealing with large samples.\n",
    "\n",
    "Modeling and Simulation: In various fields, from finance to engineering, the CLT is used to model and simulate the behavior of complex systems by assuming that the sum or average of many small, independent random variables approximates a normal distribution.\n",
    "\n",
    "Quality Control: In quality control and manufacturing processes, the CLT is used to monitor the quality of products by analyzing sample means."
   ]
  },
  {
   "cell_type": "code",
   "execution_count": null,
   "id": "7e834b84",
   "metadata": {},
   "outputs": [],
   "source": []
  },
  {
   "cell_type": "code",
   "execution_count": null,
   "id": "892d0408",
   "metadata": {},
   "outputs": [],
   "source": [
    "Q10: State the assumptions of the Central Limit Theorem."
   ]
  },
  {
   "cell_type": "markdown",
   "id": "2bcb76ca",
   "metadata": {},
   "source": [
    "==>\n",
    "The Central Limit Theorem (CLT) is a powerful statistical concept, but it does rely on certain assumptions to hold true. While the exact requirements might vary slightly depending on the source, here are the general assumptions for the CLT:\n",
    "\n",
    "1. **Random Sampling:** The samples need to be selected randomly from the population. This means that each observation has an equal chance of being selected and that the samples are independent of each other.\n",
    "\n",
    "2. **Independence:** The individual observations within each sample must be independent of each other. This assumption ensures that the behavior of one observation does not affect the behavior of another.\n",
    "\n",
    "3. **Sample Size:** The sample size should be sufficiently large. While there's no fixed rule for what constitutes a \"large\" sample size, a common guideline is that the sample size should be at least 30. However, the larger the sample size, the better the approximation to a normal distribution.\n",
    "\n",
    "4. **Finite Variance:** The population from which the samples are drawn must have a finite variance (or standard deviation). If the population variance is infinite, the CLT might not hold.\n",
    "\n",
    "5. **Similar Distribution Shape:** The distribution of the population from which the samples are drawn doesn't need to be normal. However, the CLT works better when the population distribution is not too skewed or heavy-tailed.\n",
    "\n",
    "6. **No Extreme Outliers:** The presence of extreme outliers in the data can affect the convergence to a normal distribution. While the CLT is robust to some degree of skewness and outliers, extreme values can still impact the validity of the theorem.\n",
    "\n"
   ]
  },
  {
   "cell_type": "code",
   "execution_count": null,
   "id": "0037903c",
   "metadata": {},
   "outputs": [],
   "source": []
  }
 ],
 "metadata": {
  "kernelspec": {
   "display_name": "Python 3 (ipykernel)",
   "language": "python",
   "name": "python3"
  },
  "language_info": {
   "codemirror_mode": {
    "name": "ipython",
    "version": 3
   },
   "file_extension": ".py",
   "mimetype": "text/x-python",
   "name": "python",
   "nbconvert_exporter": "python",
   "pygments_lexer": "ipython3",
   "version": "3.10.9"
  }
 },
 "nbformat": 4,
 "nbformat_minor": 5
}
